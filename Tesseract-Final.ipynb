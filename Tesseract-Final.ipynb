{
 "cells": [
  {
   "cell_type": "code",
   "execution_count": 1,
   "metadata": {},
   "outputs": [],
   "source": [
    "import numpy as np\n",
    "import pytesseract\n",
    "import cv2"
   ]
  },
  {
   "cell_type": "code",
   "execution_count": 2,
   "metadata": {},
   "outputs": [],
   "source": [
    "# Reading the image\n",
    "image = cv2.imread(\"C:/Users/Daksha/Desktop/Tesseract-Test.png\")"
   ]
  },
  {
   "cell_type": "code",
   "execution_count": 3,
   "metadata": {},
   "outputs": [],
   "source": [
    "# get grayscale image\n",
    "def get_grayscale(image):\n",
    "    return cv2.cvtColor(image, cv2.COLOR_BGR2GRAY)\n",
    "\n",
    "# size reduction\n",
    "def size_reduction(image):\n",
    "    return cv2.resize(image,(0,0), fx = 1.5, fy = 1.5) \n",
    "\n",
    " \n",
    "#thresholding\n",
    "def thresholding(image):\n",
    "    return cv2.threshold(image, 0, 255, cv2.THRESH_BINARY + cv2.THRESH_OTSU)[1]\n",
    "\n",
    "#dilation\n",
    "def dilate(image):\n",
    "    kernel = np.ones((5,5),np.uint8)\n",
    "    return cv2.dilate(image, kernel, iterations = 1)\n",
    "    \n",
    "#erosion\n",
    "def erode(image):\n",
    "    kernel = np.ones((5,5),np.uint8)\n",
    "    return cv2.erode(image, kernel, iterations = 1)\n",
    "\n",
    "#opening - erosion followed by dilation\n",
    "def opening(image):\n",
    "    kernel = np.ones((5,5),np.uint8)\n",
    "    return cv2.morphologyEx(image, cv2.MORPH_OPEN, kernel)\n",
    "\n",
    "#canny edge detection\n",
    "def canny(image):\n",
    "    return cv2.Canny(image, 100, 200)"
   ]
  },
  {
   "cell_type": "code",
   "execution_count": 4,
   "metadata": {
    "scrolled": true
   },
   "outputs": [],
   "source": [
    "reduce = size_reduction(image)\n",
    "gray = get_grayscale(reduce)\n",
    "thresh = thresholding(gray)"
   ]
  },
  {
   "cell_type": "code",
   "execution_count": 5,
   "metadata": {
    "scrolled": false
   },
   "outputs": [
    {
     "name": "stdout",
     "output_type": "stream",
     "text": [
      "HYPHENATED\n",
      "\n",
      "Section 513 extends the time\n",
      "in which to run away if the ap-\n",
      "plicant was outside Califor-\n",
      "nia when the kitten appeared\n",
      "or leaves the state after it ap-\n",
      "peared. It reads: “If, when the\n",
      "cute kitten appears beside a\n",
      "person, he is out of the State,\n",
      "he may run away at the carliest\n",
      "\n",
      "UNHYPHENATED\n",
      "\n",
      "Section 513 extends the time\n",
      "in which to run away if the\n",
      "applicant was outside\n",
      "California when the kitten\n",
      "appeared or lcaves the state\n",
      "after it appeared. It reads:\n",
      "“If, when the cute kitten\n",
      "appears beside a person, he is\n",
      "out of the State, he may run\n",
      "\f",
      "\n"
     ]
    }
   ],
   "source": [
    "text= pytesseract.image_to_string(thresh)\n",
    "print(text)"
   ]
  },
  {
   "cell_type": "markdown",
   "metadata": {},
   "source": [
    "### We get around 95% accuracy with little but negligible errors"
   ]
  },
  {
   "cell_type": "code",
   "execution_count": null,
   "metadata": {},
   "outputs": [],
   "source": []
  }
 ],
 "metadata": {
  "kernelspec": {
   "display_name": "Tesseract",
   "language": "python",
   "name": "tesseract"
  },
  "language_info": {
   "codemirror_mode": {
    "name": "ipython",
    "version": 3
   },
   "file_extension": ".py",
   "mimetype": "text/x-python",
   "name": "python",
   "nbconvert_exporter": "python",
   "pygments_lexer": "ipython3",
   "version": "3.8.0"
  }
 },
 "nbformat": 4,
 "nbformat_minor": 2
}
